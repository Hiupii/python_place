{
 "cells": [
  {
   "cell_type": "markdown",
   "id": "adfa09c5",
   "metadata": {},
   "source": [
    "# Chuẩn bị dữ liệu"
   ]
  },
  {
   "cell_type": "markdown",
   "id": "3aa533e0",
   "metadata": {},
   "source": [
    "#### import thư viện"
   ]
  },
  {
   "cell_type": "code",
   "execution_count": 1,
   "id": "initial_id",
   "metadata": {
    "ExecuteTime": {
     "end_time": "2024-02-19T14:19:05.909514100Z",
     "start_time": "2024-02-19T14:19:05.888204900Z"
    },
    "collapsed": true
   },
   "outputs": [
    {
     "name": "stderr",
     "output_type": "stream",
     "text": [
      "C:\\Users\\hieu\\AppData\\Local\\Temp\\ipykernel_9972\\2491140510.py:2: DeprecationWarning: \n",
      "Pyarrow will become a required dependency of pandas in the next major release of pandas (pandas 3.0),\n",
      "(to allow more performant data types, such as the Arrow string type, and better interoperability with other libraries)\n",
      "but was not found to be installed on your system.\n",
      "If this would cause problems for you,\n",
      "please provide us feedback at https://github.com/pandas-dev/pandas/issues/54466\n",
      "        \n",
      "  import pandas as pd\n"
     ]
    }
   ],
   "source": [
    "import datetime as dt\n",
    "import pandas as pd\n",
    "import numpy as np\n",
    "from numpy import arange\n",
    "import matplotlib.pyplot as plt\n",
    "from pandas import read_csv\n",
    "from sklearn import metrics\n",
    "from sklearn.model_selection import TimeSeriesSplit\n",
    "from sklearn.ensemble import RandomForestRegressor\n",
    "from sklearn.linear_model import LinearRegression\n",
    "from sklearn.preprocessing import MinMaxScaler\n",
    "from sklearn.model_selection import RandomizedSearchCV\n",
    "from sklearn.model_selection import train_test_split"
   ]
  },
  {
   "cell_type": "markdown",
   "id": "2454f92d",
   "metadata": {},
   "source": [
    "#### Thêm data"
   ]
  },
  {
   "cell_type": "code",
   "execution_count": 2,
   "id": "1eb75e2b",
   "metadata": {},
   "outputs": [],
   "source": [
    "df = pd.read_csv('./data/FPT Historical Data_with_NaN.csv')"
   ]
  },
  {
   "cell_type": "markdown",
   "id": "98d41a0b",
   "metadata": {},
   "source": [
    "#### xem sơ bộ data"
   ]
  },
  {
   "cell_type": "code",
   "execution_count": 3,
   "id": "29b94a0f",
   "metadata": {},
   "outputs": [
    {
     "data": {
      "text/plain": [
       "(3032, 7)"
      ]
     },
     "execution_count": 3,
     "metadata": {},
     "output_type": "execute_result"
    }
   ],
   "source": [
    "df.shape"
   ]
  },
  {
   "cell_type": "code",
   "execution_count": 4,
   "id": "dbc7e05c",
   "metadata": {},
   "outputs": [
    {
     "data": {
      "text/html": [
       "<div>\n",
       "<style scoped>\n",
       "    .dataframe tbody tr th:only-of-type {\n",
       "        vertical-align: middle;\n",
       "    }\n",
       "\n",
       "    .dataframe tbody tr th {\n",
       "        vertical-align: top;\n",
       "    }\n",
       "\n",
       "    .dataframe thead th {\n",
       "        text-align: right;\n",
       "    }\n",
       "</style>\n",
       "<table border=\"1\" class=\"dataframe\">\n",
       "  <thead>\n",
       "    <tr style=\"text-align: right;\">\n",
       "      <th></th>\n",
       "      <th>Date</th>\n",
       "      <th>Price</th>\n",
       "      <th>Open</th>\n",
       "      <th>High</th>\n",
       "      <th>Low</th>\n",
       "      <th>Vol.</th>\n",
       "      <th>Change %</th>\n",
       "    </tr>\n",
       "  </thead>\n",
       "  <tbody>\n",
       "    <tr>\n",
       "      <th>0</th>\n",
       "      <td>02/29/2024</td>\n",
       "      <td>109,000.0</td>\n",
       "      <td>108,200.0</td>\n",
       "      <td>109,400.0</td>\n",
       "      <td>107,700.0</td>\n",
       "      <td>2.82M</td>\n",
       "      <td>0.46%</td>\n",
       "    </tr>\n",
       "    <tr>\n",
       "      <th>1</th>\n",
       "      <td>02/28/2024</td>\n",
       "      <td>108,500.0</td>\n",
       "      <td>108,000.0</td>\n",
       "      <td>108,500.0</td>\n",
       "      <td>106,300.0</td>\n",
       "      <td>3.46M</td>\n",
       "      <td>0.56%</td>\n",
       "    </tr>\n",
       "    <tr>\n",
       "      <th>2</th>\n",
       "      <td>02/27/2024</td>\n",
       "      <td>107,900.0</td>\n",
       "      <td>108,500.0</td>\n",
       "      <td>109,500.0</td>\n",
       "      <td>107,400.0</td>\n",
       "      <td>2.80M</td>\n",
       "      <td>-0.09%</td>\n",
       "    </tr>\n",
       "    <tr>\n",
       "      <th>3</th>\n",
       "      <td>02/26/2024</td>\n",
       "      <td>108,000.0</td>\n",
       "      <td>103,900.0</td>\n",
       "      <td>108,000.0</td>\n",
       "      <td>103,500.0</td>\n",
       "      <td>4.47M</td>\n",
       "      <td>3.95%</td>\n",
       "    </tr>\n",
       "    <tr>\n",
       "      <th>4</th>\n",
       "      <td>02/23/2024</td>\n",
       "      <td>103,900.0</td>\n",
       "      <td>105,500.0</td>\n",
       "      <td>106,700.0</td>\n",
       "      <td>103,300.0</td>\n",
       "      <td>4.10M</td>\n",
       "      <td>-0.67%</td>\n",
       "    </tr>\n",
       "  </tbody>\n",
       "</table>\n",
       "</div>"
      ],
      "text/plain": [
       "         Date      Price       Open       High        Low   Vol. Change %\n",
       "0  02/29/2024  109,000.0  108,200.0  109,400.0  107,700.0  2.82M    0.46%\n",
       "1  02/28/2024  108,500.0  108,000.0  108,500.0  106,300.0  3.46M    0.56%\n",
       "2  02/27/2024  107,900.0  108,500.0  109,500.0  107,400.0  2.80M   -0.09%\n",
       "3  02/26/2024  108,000.0  103,900.0  108,000.0  103,500.0  4.47M    3.95%\n",
       "4  02/23/2024  103,900.0  105,500.0  106,700.0  103,300.0  4.10M   -0.67%"
      ]
     },
     "execution_count": 4,
     "metadata": {},
     "output_type": "execute_result"
    }
   ],
   "source": [
    "df.head()"
   ]
  },
  {
   "cell_type": "markdown",
   "id": "6713d2bb",
   "metadata": {},
   "source": [
    "# Tiền xử lí dữ liệu"
   ]
  },
  {
   "cell_type": "markdown",
   "id": "1b878df4",
   "metadata": {},
   "source": [
    "##### Kiểm tra type"
   ]
  },
  {
   "cell_type": "code",
   "execution_count": 5,
   "id": "79ec8175",
   "metadata": {},
   "outputs": [
    {
     "name": "stdout",
     "output_type": "stream",
     "text": [
      "<class 'pandas.core.frame.DataFrame'>\n",
      "RangeIndex: 3032 entries, 0 to 3031\n",
      "Data columns (total 7 columns):\n",
      " #   Column    Non-Null Count  Dtype \n",
      "---  ------    --------------  ----- \n",
      " 0   Date      3032 non-null   object\n",
      " 1   Price     2982 non-null   object\n",
      " 2   Open      2982 non-null   object\n",
      " 3   High      2982 non-null   object\n",
      " 4   Low       2982 non-null   object\n",
      " 5   Vol.      2982 non-null   object\n",
      " 6   Change %  2982 non-null   object\n",
      "dtypes: object(7)\n",
      "memory usage: 165.9+ KB\n"
     ]
    }
   ],
   "source": [
    "df.info()"
   ]
  },
  {
   "cell_type": "markdown",
   "id": "461b4db1",
   "metadata": {},
   "source": [
    "#### Sửa các giá trị Price, Open, High, Low thành float. Đặt Date thành index"
   ]
  },
  {
   "cell_type": "code",
   "execution_count": 6,
   "id": "c04618c3",
   "metadata": {},
   "outputs": [],
   "source": [
    "df[\"Date\"] = pd.to_datetime(df.Date,format=\"%m/%d/%Y\")\n",
    "df.set_index(\"Date\", inplace=True)\n",
    "\n",
    "df['Price'] = df['Price'].str.replace(',', '').astype(float)\n",
    "df['Open'] = df['Open'].str.replace(',', '').astype(float)\n",
    "df['High'] = df['High'].str.replace(',', '').astype(float)\n",
    "df['Low'] = df['Low'].str.replace(',', '').astype(float)"
   ]
  },
  {
   "cell_type": "markdown",
   "id": "6872f472",
   "metadata": {},
   "source": [
    "#### Sửa các kí tự K, M, B của Vol, đặt giá trị thành float."
   ]
  },
  {
   "cell_type": "code",
   "execution_count": 7,
   "id": "fad6f856",
   "metadata": {},
   "outputs": [],
   "source": [
    "import re\n",
    "\n",
    "def convert_to_float(x):\n",
    "    if isinstance(x, str):\n",
    "        number_part = re.findall(r'\\d*\\.?\\d+', x)[0]\n",
    "        unit_part = re.sub(r'\\d*\\.?\\d+', '', x)\n",
    "\n",
    "        if unit_part == 'K':\n",
    "            multiplier = 1000\n",
    "        elif unit_part == 'M':\n",
    "            multiplier = 1000000\n",
    "        elif unit_part == 'B':\n",
    "            multiplier = 1000000000\n",
    "        else:\n",
    "            multiplier = 1\n",
    "\n",
    "        return float(number_part) * multiplier\n",
    "    else:\n",
    "        return x\n",
    "\n",
    "df['Vol.'] = df['Vol.'].apply(convert_to_float)\n"
   ]
  },
  {
   "cell_type": "markdown",
   "id": "9baab7aa",
   "metadata": {},
   "source": [
    "#### Loại bỏ kí tự %, chuyển thành dạng float"
   ]
  },
  {
   "cell_type": "code",
   "execution_count": 8,
   "id": "e33793e2",
   "metadata": {},
   "outputs": [],
   "source": [
    "df['Change %'] = df['Change %'].str.rstrip('%')\n",
    "\n",
    "df['Change %'] = df['Change %'].astype(float)"
   ]
  },
  {
   "cell_type": "markdown",
   "id": "8ed8fa1d",
   "metadata": {},
   "source": [
    "#### Xem lại dữ liệu đã được chuyển thành float chưa"
   ]
  },
  {
   "cell_type": "code",
   "execution_count": 9,
   "id": "cbb27b00",
   "metadata": {},
   "outputs": [
    {
     "name": "stdout",
     "output_type": "stream",
     "text": [
      "               Price      Open      High       Low       Vol.  Change %\n",
      "Date                                                                   \n",
      "2024-02-29  109000.0  108200.0  109400.0  107700.0  2820000.0      0.46\n",
      "2024-02-28  108500.0  108000.0  108500.0  106300.0  3460000.0      0.56\n",
      "2024-02-27  107900.0  108500.0  109500.0  107400.0  2800000.0     -0.09\n",
      "2024-02-26  108000.0  103900.0  108000.0  103500.0  4470000.0      3.95\n",
      "2024-02-23  103900.0  105500.0  106700.0  103300.0  4100000.0     -0.67\n",
      "...              ...       ...       ...       ...        ...       ...\n",
      "2012-01-09    6742.5    6714.9    6742.5    6659.6   219830.0      0.41\n",
      "2012-01-06    6714.9    6701.1    6714.9    6673.4   315300.0      0.83\n",
      "2012-01-05    6659.6    6673.4    6756.3    6645.8   309570.0     -2.03\n",
      "2012-01-04    6797.8    6811.6    6811.6    6784.0   141740.0      0.00\n",
      "2012-01-03    6797.8    6562.9    6825.4    6562.9   356900.0     -1.01\n",
      "\n",
      "[3032 rows x 6 columns]\n"
     ]
    }
   ],
   "source": [
    "print(df)"
   ]
  },
  {
   "cell_type": "code",
   "execution_count": 10,
   "id": "09d8e5bf",
   "metadata": {},
   "outputs": [
    {
     "name": "stdout",
     "output_type": "stream",
     "text": [
      "<class 'pandas.core.frame.DataFrame'>\n",
      "DatetimeIndex: 3032 entries, 2024-02-29 to 2012-01-03\n",
      "Data columns (total 6 columns):\n",
      " #   Column    Non-Null Count  Dtype  \n",
      "---  ------    --------------  -----  \n",
      " 0   Price     2982 non-null   float64\n",
      " 1   Open      2982 non-null   float64\n",
      " 2   High      2982 non-null   float64\n",
      " 3   Low       2982 non-null   float64\n",
      " 4   Vol.      2982 non-null   float64\n",
      " 5   Change %  2982 non-null   float64\n",
      "dtypes: float64(6)\n",
      "memory usage: 165.8 KB\n"
     ]
    }
   ],
   "source": [
    "df.info()"
   ]
  },
  {
   "cell_type": "markdown",
   "id": "f09ad47f",
   "metadata": {},
   "source": [
    "#### Kiểm tra các giá trị null, NaN và sửa bằng phương pháp nội suy"
   ]
  },
  {
   "cell_type": "code",
   "execution_count": 11,
   "id": "b35a4dd9",
   "metadata": {},
   "outputs": [
    {
     "data": {
      "text/plain": [
       "Price       50\n",
       "Open        50\n",
       "High        50\n",
       "Low         50\n",
       "Vol.        50\n",
       "Change %    50\n",
       "dtype: int64"
      ]
     },
     "execution_count": 11,
     "metadata": {},
     "output_type": "execute_result"
    }
   ],
   "source": [
    "df.isna().sum()\n",
    "df.isnull().sum()"
   ]
  },
  {
   "cell_type": "code",
   "execution_count": 12,
   "id": "06de3c91",
   "metadata": {},
   "outputs": [
    {
     "name": "stdout",
     "output_type": "stream",
     "text": [
      "               Price      Open      High       Low       Vol.  Change %\n",
      "Date                                                                   \n",
      "2024-02-29  109000.0  108200.0  109400.0  107700.0  2820000.0      0.46\n",
      "2024-02-28  108500.0  108000.0  108500.0  106300.0  3460000.0      0.56\n",
      "2024-02-27  107900.0  108500.0  109500.0  107400.0  2800000.0     -0.09\n",
      "2024-02-26  108000.0  103900.0  108000.0  103500.0  4470000.0      3.95\n",
      "2024-02-23  103900.0  105500.0  106700.0  103300.0  4100000.0     -0.67\n",
      "...              ...       ...       ...       ...        ...       ...\n",
      "2012-01-09    6742.5    6714.9    6742.5    6659.6   219830.0      0.41\n",
      "2012-01-06    6714.9    6701.1    6714.9    6673.4   315300.0      0.83\n",
      "2012-01-05    6659.6    6673.4    6756.3    6645.8   309570.0     -2.03\n",
      "2012-01-04    6797.8    6811.6    6811.6    6784.0   141740.0      0.00\n",
      "2012-01-03    6797.8    6562.9    6825.4    6562.9   356900.0     -1.01\n",
      "\n",
      "[3032 rows x 6 columns]\n"
     ]
    }
   ],
   "source": [
    "df = df.interpolate()\n",
    "\n",
    "print(df)\n"
   ]
  },
  {
   "cell_type": "code",
   "execution_count": 13,
   "id": "c1d46df0",
   "metadata": {},
   "outputs": [
    {
     "name": "stdout",
     "output_type": "stream",
     "text": [
      "<class 'pandas.core.frame.DataFrame'>\n",
      "DatetimeIndex: 3032 entries, 2024-02-29 to 2012-01-03\n",
      "Data columns (total 6 columns):\n",
      " #   Column    Non-Null Count  Dtype  \n",
      "---  ------    --------------  -----  \n",
      " 0   Price     3032 non-null   float64\n",
      " 1   Open      3032 non-null   float64\n",
      " 2   High      3032 non-null   float64\n",
      " 3   Low       3032 non-null   float64\n",
      " 4   Vol.      3032 non-null   float64\n",
      " 5   Change %  3032 non-null   float64\n",
      "dtypes: float64(6)\n",
      "memory usage: 165.8 KB\n"
     ]
    }
   ],
   "source": [
    "df.info()"
   ]
  },
  {
   "cell_type": "code",
   "execution_count": 14,
   "id": "3470ff12",
   "metadata": {},
   "outputs": [
    {
     "data": {
      "text/plain": [
       "Price       0\n",
       "Open        0\n",
       "High        0\n",
       "Low         0\n",
       "Vol.        0\n",
       "Change %    0\n",
       "dtype: int64"
      ]
     },
     "execution_count": 14,
     "metadata": {},
     "output_type": "execute_result"
    }
   ],
   "source": [
    "df.isna().sum()\n",
    "df.isnull().sum()"
   ]
  },
  {
   "cell_type": "markdown",
   "id": "eab7bed0",
   "metadata": {},
   "source": [
    "# Mô tả dữ liệu"
   ]
  },
  {
   "cell_type": "code",
   "execution_count": 15,
   "id": "3dcd13ab",
   "metadata": {},
   "outputs": [
    {
     "data": {
      "text/html": [
       "<div>\n",
       "<style scoped>\n",
       "    .dataframe tbody tr th:only-of-type {\n",
       "        vertical-align: middle;\n",
       "    }\n",
       "\n",
       "    .dataframe tbody tr th {\n",
       "        vertical-align: top;\n",
       "    }\n",
       "\n",
       "    .dataframe thead th {\n",
       "        text-align: right;\n",
       "    }\n",
       "</style>\n",
       "<table border=\"1\" class=\"dataframe\">\n",
       "  <thead>\n",
       "    <tr style=\"text-align: right;\">\n",
       "      <th></th>\n",
       "      <th>Price</th>\n",
       "      <th>Open</th>\n",
       "      <th>High</th>\n",
       "      <th>Low</th>\n",
       "      <th>Vol.</th>\n",
       "      <th>Change %</th>\n",
       "    </tr>\n",
       "  </thead>\n",
       "  <tbody>\n",
       "    <tr>\n",
       "      <th>count</th>\n",
       "      <td>3032.000000</td>\n",
       "      <td>3032.000000</td>\n",
       "      <td>3032.000000</td>\n",
       "      <td>3032.000000</td>\n",
       "      <td>3.032000e+03</td>\n",
       "      <td>3032.000000</td>\n",
       "    </tr>\n",
       "    <tr>\n",
       "      <th>mean</th>\n",
       "      <td>33815.471075</td>\n",
       "      <td>33807.120861</td>\n",
       "      <td>34176.956712</td>\n",
       "      <td>33463.373747</td>\n",
       "      <td>2.069698e+06</td>\n",
       "      <td>0.107932</td>\n",
       "    </tr>\n",
       "    <tr>\n",
       "      <th>std</th>\n",
       "      <td>28572.021523</td>\n",
       "      <td>28561.133581</td>\n",
       "      <td>28886.658638</td>\n",
       "      <td>28246.910149</td>\n",
       "      <td>1.643621e+06</td>\n",
       "      <td>1.608871</td>\n",
       "    </tr>\n",
       "    <tr>\n",
       "      <th>min</th>\n",
       "      <td>5840.900000</td>\n",
       "      <td>5786.900000</td>\n",
       "      <td>5876.800000</td>\n",
       "      <td>5769.000000</td>\n",
       "      <td>1.897000e+04</td>\n",
       "      <td>-14.020000</td>\n",
       "    </tr>\n",
       "    <tr>\n",
       "      <th>25%</th>\n",
       "      <td>12751.025000</td>\n",
       "      <td>12751.025000</td>\n",
       "      <td>12997.487500</td>\n",
       "      <td>12611.200000</td>\n",
       "      <td>9.159175e+05</td>\n",
       "      <td>-0.650000</td>\n",
       "    </tr>\n",
       "    <tr>\n",
       "      <th>50%</th>\n",
       "      <td>22022.400000</td>\n",
       "      <td>22068.250000</td>\n",
       "      <td>22208.600000</td>\n",
       "      <td>21882.800000</td>\n",
       "      <td>1.640000e+06</td>\n",
       "      <td>0.000000</td>\n",
       "    </tr>\n",
       "    <tr>\n",
       "      <th>75%</th>\n",
       "      <td>52755.750000</td>\n",
       "      <td>52685.500000</td>\n",
       "      <td>53229.900000</td>\n",
       "      <td>52334.050000</td>\n",
       "      <td>2.720000e+06</td>\n",
       "      <td>0.860000</td>\n",
       "    </tr>\n",
       "    <tr>\n",
       "      <th>max</th>\n",
       "      <td>109000.000000</td>\n",
       "      <td>108500.000000</td>\n",
       "      <td>109500.000000</td>\n",
       "      <td>107700.000000</td>\n",
       "      <td>1.217000e+07</td>\n",
       "      <td>7.000000</td>\n",
       "    </tr>\n",
       "  </tbody>\n",
       "</table>\n",
       "</div>"
      ],
      "text/plain": [
       "               Price           Open           High            Low  \\\n",
       "count    3032.000000    3032.000000    3032.000000    3032.000000   \n",
       "mean    33815.471075   33807.120861   34176.956712   33463.373747   \n",
       "std     28572.021523   28561.133581   28886.658638   28246.910149   \n",
       "min      5840.900000    5786.900000    5876.800000    5769.000000   \n",
       "25%     12751.025000   12751.025000   12997.487500   12611.200000   \n",
       "50%     22022.400000   22068.250000   22208.600000   21882.800000   \n",
       "75%     52755.750000   52685.500000   53229.900000   52334.050000   \n",
       "max    109000.000000  108500.000000  109500.000000  107700.000000   \n",
       "\n",
       "               Vol.     Change %  \n",
       "count  3.032000e+03  3032.000000  \n",
       "mean   2.069698e+06     0.107932  \n",
       "std    1.643621e+06     1.608871  \n",
       "min    1.897000e+04   -14.020000  \n",
       "25%    9.159175e+05    -0.650000  \n",
       "50%    1.640000e+06     0.000000  \n",
       "75%    2.720000e+06     0.860000  \n",
       "max    1.217000e+07     7.000000  "
      ]
     },
     "execution_count": 15,
     "metadata": {},
     "output_type": "execute_result"
    }
   ],
   "source": [
    "df.describe()"
   ]
  },
  {
   "cell_type": "code",
   "execution_count": 16,
   "id": "8e773303",
   "metadata": {},
   "outputs": [
    {
     "data": {
      "image/png": "[encoded data removed]",
      "text/plain": [
       "<Figure size 1800x700 with 1 Axes>"
      ]
     },
     "metadata": {},
     "output_type": "display_data"
    }
   ],
   "source": [
    "fig, ax = plt.subplots(figsize=(18, 7))\n",
    "df['Price'].plot(label = 'Giá đóng cửa thực tế')\n",
    "ax.set_xlabel('Năm')\n",
    "ax.set_ylabel('Giá đóng cửa')\n",
    "plt.legend(loc='best')\n",
    "plt.show()"
   ]
  },
  {
   "cell_type": "markdown",
   "id": "2e518912",
   "metadata": {},
   "source": [
    "# Chuẩn bị mô hình"
   ]
  },
  {
   "cell_type": "markdown",
   "id": "ba452da2",
   "metadata": {},
   "source": [
    "#### Scale dữ liệu"
   ]
  },
  {
   "cell_type": "code",
   "execution_count": 17,
   "id": "abd49af8",
   "metadata": {},
   "outputs": [
    {
     "data": {
      "text/html": [
       "<div>\n",
       "<style scoped>\n",
       "    .dataframe tbody tr th:only-of-type {\n",
       "        vertical-align: middle;\n",
       "    }\n",
       "\n",
       "    .dataframe tbody tr th {\n",
       "        vertical-align: top;\n",
       "    }\n",
       "\n",
       "    .dataframe thead th {\n",
       "        text-align: right;\n",
       "    }\n",
       "</style>\n",
       "<table border=\"1\" class=\"dataframe\">\n",
       "  <thead>\n",
       "    <tr style=\"text-align: right;\">\n",
       "      <th></th>\n",
       "      <th>Open</th>\n",
       "      <th>High</th>\n",
       "      <th>Low</th>\n",
       "      <th>Vol.</th>\n",
       "      <th>Change %</th>\n",
       "    </tr>\n",
       "    <tr>\n",
       "      <th>Date</th>\n",
       "      <th></th>\n",
       "      <th></th>\n",
       "      <th></th>\n",
       "      <th></th>\n",
       "      <th></th>\n",
       "    </tr>\n",
       "  </thead>\n",
       "  <tbody>\n",
       "    <tr>\n",
       "      <th>2024-02-29</th>\n",
       "      <td>0.997079</td>\n",
       "      <td>0.999035</td>\n",
       "      <td>1.000000</td>\n",
       "      <td>0.230518</td>\n",
       "      <td>0.688868</td>\n",
       "    </tr>\n",
       "    <tr>\n",
       "      <th>2024-02-28</th>\n",
       "      <td>0.995132</td>\n",
       "      <td>0.990350</td>\n",
       "      <td>0.986265</td>\n",
       "      <td>0.283188</td>\n",
       "      <td>0.693625</td>\n",
       "    </tr>\n",
       "    <tr>\n",
       "      <th>2024-02-27</th>\n",
       "      <td>1.000000</td>\n",
       "      <td>1.000000</td>\n",
       "      <td>0.997057</td>\n",
       "      <td>0.228872</td>\n",
       "      <td>0.662702</td>\n",
       "    </tr>\n",
       "    <tr>\n",
       "      <th>2024-02-26</th>\n",
       "      <td>0.955215</td>\n",
       "      <td>0.985524</td>\n",
       "      <td>0.958796</td>\n",
       "      <td>0.366309</td>\n",
       "      <td>0.854900</td>\n",
       "    </tr>\n",
       "    <tr>\n",
       "      <th>2024-02-23</th>\n",
       "      <td>0.970792</td>\n",
       "      <td>0.972979</td>\n",
       "      <td>0.956834</td>\n",
       "      <td>0.335859</td>\n",
       "      <td>0.635109</td>\n",
       "    </tr>\n",
       "  </tbody>\n",
       "</table>\n",
       "</div>"
      ],
      "text/plain": [
       "                Open      High       Low      Vol.  Change %\n",
       "Date                                                        \n",
       "2024-02-29  0.997079  0.999035  1.000000  0.230518  0.688868\n",
       "2024-02-28  0.995132  0.990350  0.986265  0.283188  0.693625\n",
       "2024-02-27  1.000000  1.000000  0.997057  0.228872  0.662702\n",
       "2024-02-26  0.955215  0.985524  0.958796  0.366309  0.854900\n",
       "2024-02-23  0.970792  0.972979  0.956834  0.335859  0.635109"
      ]
     },
     "execution_count": 17,
     "metadata": {},
     "output_type": "execute_result"
    }
   ],
   "source": [
    "features = ['Open', 'High', 'Low', 'Vol.', 'Change %']\n",
    "\n",
    "scaler = MinMaxScaler()\n",
    "X = scaler.fit_transform(df[features])\n",
    "X = pd.DataFrame(columns=features, data=X, index=df.index)  # Thêm index=df.index\n",
    "X.head()"
   ]
  },
  {
   "cell_type": "code",
   "execution_count": 18,
   "id": "d7532bef",
   "metadata": {},
   "outputs": [],
   "source": [
    "X.to_csv('./data/FPT Historical Data_Demo.csv', index=True)"
   ]
  },
  {
   "cell_type": "code",
   "execution_count": 19,
   "id": "fd39a486",
   "metadata": {},
   "outputs": [],
   "source": [
    "y = pd.DataFrame(df['Price'])\n",
    "\n",
    "X_train, X_test = train_test_split(X, test_size=0.3, random_state=46)\n",
    "y_train, y_test = train_test_split(y.values.ravel(), test_size=0.3, random_state=46)"
   ]
  },
  {
   "cell_type": "code",
   "execution_count": 20,
   "id": "4b68aad9",
   "metadata": {},
   "outputs": [
    {
     "data": {
      "text/plain": [
       "array([ 85300.  ,  15272.  ,  21082.9 ,  23749.7 ,  80398.  ,   7155.3 ,\n",
       "         8318.1 ,  16140.2 ,   8415.8 ,   8008.  ,  23620.1 ,  24872.4 ,\n",
       "         7192.4 ,  31315.4 ,  32029.8 ,  11329.9 ,  73000.  ,  13894.6 ,\n",
       "        29946.1 ,  81500.  ,  13122.5 ,  39970.7 ,  35896.4 ,  34411.2 ,\n",
       "        85901.  ,  16716.7 ,  14523.4 ,  13984.4 ,  14915.3 ,  26637.6 ,\n",
       "        85506.  ,  22547.5 ,  23274.7 ,  78700.  ,  12472.6 ,  26552.6 ,\n",
       "        30551.5 ,  13772.2 ,  14373.7 ,  10790.4 ,  80100.  ,  78000.  ,\n",
       "         9123.1 ,   6747.5 ,  31431.4 ,   7970.9 ,   6977.4 ,  13362.  ,\n",
       "        84023.  ,  14373.7 ,  14224.  ,   7933.8 ,  46784.7 ,  14044.3 ,\n",
       "        12422.6 ,  78737.  ,  79657.  ,  23029.75,   9218.9 ,  23564.1 ,\n",
       "        88966.  ,  34887.5 ,   7136.7 ,   7007.  ,  16788.7 ,  14246.9 ,\n",
       "        12997.5 ,  12937.1 ,  57673.  ,  35123.7 ,  25045.1 ,   8082.7 ,\n",
       "        23616.2 ,   9065.6 ,  13830.8 ,  32040.4 ,   9046.4 ,  90700.  ,\n",
       "         6667.6 ,  76939.  ,   8082.1 ,  13535.2 ,  12272.6 ,  12622.6 ,\n",
       "        36177.4 ,  32979.7 ,  21650.7 ,  83100.  ,   8635.4 ,  17131.  ,\n",
       "        11967.5 ,   6110.4 ,  69445.  ,  10177.3 ,   9046.4 ,  15383.6 ,\n",
       "        11550.6 ,  13416.3 ,  26556.5 ,  31732.1 ,  12297.6 ,  29946.1 ,\n",
       "        21713.4 ,   8873.9 ,  32978.9 ,  11011.1 ,  16446.5 ,  13596.4 ,\n",
       "        16572.5 ,  82900.  ,  24742.9 ,  12629.6 ,  94000.  ,  80069.  ,\n",
       "         7822.6 ,   9276.4 ,  84000.  ,  22495.4 ,   6043.1 ,   8778.1 ,\n",
       "         8854.7 ,  20580.9 ,  23147.  ,  79492.  ,  10637.2 ,   7303.6 ,\n",
       "        12422.6 ,  13747.3 ,  94700.  ,  82400.  ,  33934.9 ,  21426.7 ,\n",
       "        78669.  ,  11572.8 ,  32701.4 ,  26081.5 ,  13747.3 ,  12629.6 ,\n",
       "        86000.  ,  21791.6 ,  37231.1 ,  12485.1 ,  95100.  ,  96600.  ,\n",
       "        17113.  ,   8597.  ,  34561.7 ,  17257.1 ,  12197.6 ,  11231.8 ,\n",
       "        80398.  ,  74000.  ,   7322.1 ,  27630.7 ,  14313.8 ,  75966.  ,\n",
       "         7046.5 ,  12072.7 ,  12997.5 ,  12147.6 ,   7970.9 ,  34649.3 ,\n",
       "        66755.  ,  13804.7 ,   8378.7 ,  68304.  ,  11397.8 ,  30065.1 ,\n",
       "        96300.  ,  16932.8 ,  80900.  ,   7970.9 ,  86600.  ,  98900.  ,\n",
       "        35404.6 ,  12022.7 ,  30405.3 ,  22286.8 ,  32148.9 ,  21650.7 ,\n",
       "        84500.  ,  12747.5 ,   8739.7 ,  78900.  ,  96100.  ,  12997.5 ,\n",
       "         5840.9 ,  82500.  ,  12629.6 ,   8471.4 ,  15996.1 ,  80000.  ,\n",
       "        77922.  ,  56057.  ,   8281.2 ,  26124.7 ,   8428.2 ,   8035.6 ,\n",
       "        56760.  ,  14283.9 ,  13772.2 ,  27333.7 ,  10541.4 ,  74600.  ,\n",
       "        75300.  ,  12347.6 ,  12497.6 ,  20597.5 ,  23068.8 ,  79245.  ,\n",
       "        19750.7 ,  79200.  ,  31374.9 ,  91519.  ,  21050.9 ,  32446.5 ,\n",
       "        32840.5 ,  11329.9 ,  25131.5 ,  33849.4 ,  26958.9 ,  54161.  ,\n",
       "        23824.8 ,  26066.5 ,  26167.8 ,  27204.2 ,  83800.  ,  44045.1 ,\n",
       "        93200.  ,   7461.  ,  26513.3 ,   8220.9 ,  70800.  ,  15834.  ,\n",
       "        12384.4 ,  27455.5 , 104600.  ,  23981.2 ,  78300.  ,  26579.2 ,\n",
       "        14523.4 ,  13607.9 ,  11997.7 ,  25217.9 ,  20446.3 ,   8702.3 ,\n",
       "         8605.6 ,   8816.4 ,  79492.  ,  14523.4 ,  16104.2 ,  80500.  ,\n",
       "         8566.3 ,  96600.  ,  33577.7 ,  26642.8 ,  78500.  ,  13355.6 ,\n",
       "         8758.9 ,  77927.  ,  12622.6 ,  26383.7 ,  93084.  ,  13235.8 ,\n",
       "        14972.6 ,  13714.9 ,  86494.  ,  23433.7 ,  25692.8 ,  35896.4 ,\n",
       "         8649.7 ,   8969.7 ,  15978.1 ,  95600.  ,  11722.7 ,  20878.1 ,\n",
       "        16212.3 ,  91849.  ,   6951.4 ,  28594.6 ,  11772.7 ,  12384.4 ,\n",
       "        25440.9 ,  80500.  ,  34301.7 ,  82700.  ,  16170.4 ,  28244.1 ,\n",
       "        11547.8 ,  85500.  ,  85500.  ,  86082.  ,  86247.  ,   8263.7 ,\n",
       "        13186.2 ,  35474.9 ,  16932.8 ,  23102.  ,  34440.95,  81716.  ,\n",
       "        12122.7 ,  92900.  ,  95900.  ,   8013.7 ,   8835.6 ,  11280.8 ,\n",
       "         8263.7 ,  14343.7 ,  79200.  ,  40040.95,  21007.7 ,   6829.3 ,\n",
       "        16068.2 ,  79410.  ,   6065.5 ,  44466.5 ,  14313.8 ,  83825.  ,\n",
       "        76373.  ,  78500.  ,  96200.  ,   7081.1 ,  10924.7 ,  13325.6 ,\n",
       "        84500.  ,  13625.1 ,  87680.  ,  12497.6 ,  80300.  ,   6061.6 ,\n",
       "        77103.  ,  66594.  ,  91600.  ,   6613.6 ,   7944.6 ,   9049.9 ,\n",
       "        16572.5 ,  75558.  ,  12362.1 ,  23355.6 ,  87318.  ,  14633.9 ,\n",
       "        16518.5 ,  33637.2 ,  25045.1 ,  13655.  ,   7530.1 ,  31936.  ,\n",
       "         9429.7 ,  14352.5 ,   8386.5 ,  27624.2 ,   6580.6 ,  31568.9 ,\n",
       "        32562.2 ,  26340.6 ,   8156.3 ,  75291.  ,  33999.7 ,  19765.8 ,\n",
       "        23188.3 ,  25779.2 ,  11329.9 ,  77021.  ,  18016.7 ,  19969.5 ,\n",
       "         7136.7 ,  13116.  ,  32394.3 ,  13122.5 ,  22625.7 ,  26433.2 ,\n",
       "        73195.  ,  32979.7 ,   9583.  ,  34292.1 ,  87878.  ,  81600.  ,\n",
       "         8375.6 ,  33041.9 ,  33397.1 ,  39057.5 ,   7046.5 ,  80300.  ,\n",
       "        35018.3 ,  15491.7 ,  14433.6 ,  25414.8 ,  96700.  ,  23720.5 ,\n",
       "        35474.9 ,  83000.  ,  16860.8 ,   6895.8 ,  16554.5 , 104900.  ,\n",
       "        20808.  ,  94814.  ,  15871.  ,  85900.  ,   7062.6 ,  14253.9 ,\n",
       "        15347.6 ,  66307.  ,  24911.  ,  12247.6 ,  12022.7 ,  74300.  ,\n",
       "        53879.7 ,  11747.7 ,  13714.9 ,   7896.8 ,  87000.  ,   9257.2 ,\n",
       "        22156.5 ,  23876.9 ,  78330.  ,  87000.  ,   7896.8 ,  21869.8 ,\n",
       "        83500.  ,  16806.7 ,  13596.4 ,   8624.7 ,  77680.  ,  79100.  ,\n",
       "        81469.  ,  26254.2 ,  14211.8 ,  94300.  ,  14633.9 ,  14164.1 ,\n",
       "        16392.4 ,  34526.6 ,   7875.5 ,   8597.  ,   8816.4 ,  16572.5 ,\n",
       "        13872.3 ,  35685.6 ,  43904.6 ,  12261.8 ,  24397.4 ,  26170.8 ,\n",
       "        26404.  ,  86500.  ,  14985.6 ,  46644.2 ,   6839.2 ,  15960.1 ,\n",
       "        21188.7 ,  23381.6 ,   7173.8 ,  78092.  ,  17040.9 ,  80000.  ,\n",
       "        33934.9 ,  23147.  ,   8082.1 ,  58235.  ,  13747.3 ,  73726.  ,\n",
       "        21497.85,  27338.6 ,  14493.2 ,  21345.  ,  76774.  ,  13948.  ,\n",
       "        13834.7 ,  23459.8 ,  11428.  ,  82800.  ,  74962.  ,  74906.  ,\n",
       "        87200.  ,  80750.  ,  78500.  ,  13205.8 ,   7806.4 ,  15020.8 ,\n",
       "        72738.  ,  35123.7 ,  23355.6 ,  97200.  ,  21921.9 ,  30184.2 ,\n",
       "        26297.4 ,  19867.7 ,  53317.7 ,  83600.  ,  19200.9 ,   7115.6 ,\n",
       "        33188.4 ,  14247.2 ,  17185.  ,  34351.7 ,   6840.2 ,  56198.  ,\n",
       "        90943.  ,  14387.6 ,  14153.2 ,  12197.6 ,  13535.2 ,  69608.  ,\n",
       "        83300.  ,  21869.8 ,  12297.6 ,  75785.  ,  12622.6 ,   7044.1 ,\n",
       "        32684.7 ,  79904.  ,  76609.  ,  23329.5 ,  32982.4 ,  76774.  ,\n",
       "        34023.3 ,  15924.1 ,  92500.  ,  17257.1 ,   8337.3 ,   7599.2 ,\n",
       "        32148.9 ,  23459.8 ,  11787.2 ,  23407.7 ,  86400.  ,  75000.  ,\n",
       "        14268.9 ,  83035.  ,  33280.  ,  25822.4 ,  93100.  ,  87000.  ,\n",
       "        70843.  ,  31494.  ,   6797.8 ,  87000.  ,  81800.  ,  13032.9 ,\n",
       "        14074.2 ,  85100.  ,  79400.  ,   8816.4 ,  12147.6 ,  15167.5 ,\n",
       "        26556.5 ,  37231.1 ,  26340.6 ,  16248.3 ,  13235.8 ,  12622.6 ,\n",
       "        12747.5 ,  12122.7 ,  14247.2 ,   8281.2 ,  85012.  ,  15167.5 ,\n",
       "        12097.7 ,   7785.5 ,  14528.3 , 103500.  ,  12846.5 ,  12188.2 ,\n",
       "         8526.9 ,   6541.8 ,   6024.5 ,  85110.  ,   7806.4 ,  14763.  ,\n",
       "        13445.4 ,  12347.6 ,  79080.  ,  11997.7 ,   8667.2 ,  73800.  ,\n",
       "        14313.8 ,   6595.7 ,  58235.  ,  22560.55,  88300.  ,  80481.  ,\n",
       "         7340.7 ,   8228.6 ,  74962.  ,  15707.9 ,  39057.5 ,  13512.1 ,\n",
       "        95600.  ,  13128.8 ,  37371.6 ,  12172.6 ,  12222.6 ,  47065.7 ,\n",
       "        22000.1 ,  32875.7 ,  75456.  ,  12937.1 ,  72765.  ,  13039.7 ,\n",
       "        69038.  ,  80234.  ,  76692.  ,  32446.5 ,  83924.  ,  80700.  ,\n",
       "        94300.  ,   6710.4 ,  74962.  ,  14224.  ,  22443.2 ,  12622.6 ,\n",
       "        86906.  ,  33041.9 ,  26772.4 ,  34173.1 ,  27484.7 ,  84418.  ,\n",
       "        84517.  ,  20683.8 ,  24483.8 ,  85703.  ,  23251.3 ,  33161.  ,\n",
       "        21288.4 ,  15272.  ,  21288.4 ,   6901.2 ,   6020.6 ,  21497.8 ,\n",
       "        13997.3 ,  20770.2 ,  16176.2 ,  16356.4 ,  22782.1 ,  14194.  ,\n",
       "         6865.2 ,  55917.  ,  14224.  ,  14583.3 ,  12147.6 ,  69038.  ,\n",
       "         6092.5 ,   7285.  ,   6877.2 ,  80893.  ,  32803.7 ,  31970.3 ,\n",
       "        15671.9 ,   7278.6 ,  12747.5 ,  13128.8 ,  84500.  ,  13889.4 ,\n",
       "        14283.9 ,   8632.1 ,   6877.2 ,  75868.  ,  54722.7 ,  77000.  ,\n",
       "        25217.9 ,  13416.3 ,  11403.5 ,  76032.5 ,  11972.7 ,  76900.  ,\n",
       "         6866.9 ,  16392.4 ,  25410.9 ,  98000.  ,  17599.3 ,  24919.6 ,\n",
       "        20453.5 ,   8117.3 ,  74632.  ,  17058.9 ,  74800.  ,  82000.  ,\n",
       "        33637.2 ,  12874.9 ,  13475.3 ,  14246.9 ,  27892.1 ,  12297.6 ,\n",
       "        77268.  ,  10637.2 ,   9870.5 ,  33220.5 ,  14493.5 ,   7989.5 ,\n",
       "        32249.1 ,  77200.  ,  23042.8 ,  15563.8 ,   7674.3 ,  93600.  ,\n",
       "        25951.9 ,  31553.5 ,  17076.9 ,  20596.6 ,  81200.  ,  11572.8 ,\n",
       "         6919.2 ,  95600.  ,  12458.  ,  21974.  ,  19179.8 ,   9966.4 ,\n",
       "        16788.7 ,  34173.1 ,  15383.6 ,   6932.8 ,  12997.5 ,  23772.6 ,\n",
       "         8359.1 ,  26038.3 ,  78174.  ,   9257.2 ,  26858.7 ,  35053.4 ,\n",
       "        13010.4 ,  20986.1 ,  75600.  ,  30640.4 ,  76444.  ,  14497.2 ,\n",
       "        35123.7 ,  14224.  ,  70586.  ,  90900.  ,  20619.1 ,   6866.9 ,\n",
       "         8643.9 ,  25606.5 ,  14352.5 ,   7266.5 ,  10733.  ,   7118.2 ,\n",
       "        15617.8 ,  33397.1 ,  26340.6 ,  92700.  ,  80750.  ,  21395.9 ,\n",
       "        25433.8 ,  19095.2 ,  12147.6 ,  20942.9 ,  22208.6 ,   6858.7 ,\n",
       "        80810.  ,   6631.6 ,  22238.3 ,  16572.5 ,  12841.3 ,   8566.3 ,\n",
       "        33397.1 ,  13416.3 ,  11797.7 ,  40392.2 ,  11883.  ,   8260.6 ,\n",
       "        27386.1 ,  25294.1 ,  13625.7 ,  16572.5 ,  24656.5 ,   9103.9 ,\n",
       "        12237.3 ,   7970.9 ,   7210.9 ,  13744.8 ,  24354.2 ,  20067.9 ,\n",
       "        23981.2 ,  34649.3 ,  75300.  ,  30606.1 ,  40181.5 ,  79600.  ,\n",
       "        37863.3 ,  14458.  ,  16464.5 ,  65892.  ,   8298.8 ,  32325.5 ,\n",
       "        81848.  ,  20511.1 ,   8614.6 ,   6988.5 ,   8490.6 ,  14373.7 ,\n",
       "        79163.  ,  95144.  ,  14985.6 ,  22078.3 ,  13069.  ,  96000.  ,\n",
       "        53809.4 ,  21094.  ,  14463.5 ,   8045.1 ,  13948.  ,  90943.  ,\n",
       "        76774.  ,  12297.6 ,  33710.2 ,   6977.4 ,  38776.5 ,  11452.5 ,\n",
       "        12172.6 ,  25884.  ,  19327.8 ,  15419.7 ,  72900.  ,  75785.  ,\n",
       "        14774.6 ,  11872.7 ,  19666.1 ,  11622.8 ,  17113.  ,   7046.5 ,\n",
       "        12497.6 ,   7915.3 ,  91684.  ,  12497.6 ,  86000.  ,  32144.8 ,\n",
       "        85800.  ,  26470.1 ,  11797.7 ,   8378.7 ,  26433.2 ,  85176.  ,\n",
       "        93000.  ,  81500.  ,  86500.  ,  77268.  ,  83500.  ,  92261.  ,\n",
       "        23836.1 ,  96200.  ,   7080.9 ,  77700.  ,  33637.2 ,   7530.1 ,\n",
       "         6932.8 ,  23042.8 ,  24111.5 ,  37371.6 ,  37793.1 ,  82200.  ,\n",
       "        31315.4 ,  81400.  ,  70912.  ,  14583.3 ,  20215.9 ,  21188.7 ,\n",
       "        31613.1 ,  59851.  ,  23512.  ,  24527.  ,   7044.1 ,  86412.  ,\n",
       "        72000.  ,  26211.  ,  27683.7 ,  96700.  ,  16212.3 ,   8720.6 ,\n",
       "        32148.9 ,  12622.6 ,  72461.  ,  12937.1 ,  13535.2 ,  11428.  ,\n",
       "        84900.  ,  15091.2 ,  28814.9 ,  16050.2 ,  95200.  ,  13894.6 ,\n",
       "        13415.4 ,   8298.8 ,  13145.9 ,  14224.  ,   6742.5 ,  12097.7 ,\n",
       "        24450.4 ,  28160.  ,   8597.  ,  14523.4 ,  81900.  ,   8290.  ,\n",
       "         8597.  ,  20942.9 ,  13320.4 ,   7322.1 ,  80600.  ,  21803.5 ,\n",
       "        21701.6 ,   6710.4 ,  12297.6 ,  23225.2 ,   8406.5 ,  29469.8 ,\n",
       "        13864.6 ,  23720.5 ,  80000.  ,  11691.3 ])"
      ]
     },
     "execution_count": 20,
     "metadata": {},
     "output_type": "execute_result"
    }
   ],
   "source": [
    "y_test"
   ]
  },
  {
   "cell_type": "code",
   "execution_count": 21,
   "id": "7c8d6bf2",
   "metadata": {},
   "outputs": [
    {
     "name": "stdout",
     "output_type": "stream",
     "text": [
      "Mean Absolute Error: 186.4854\n",
      "Mean Squared Error: 99118.5452\n",
      "Root Mean Squared Error: 314.831\n",
      "(R^2) Score: 0.9999\n",
      "Train Score : 99.99% and Test Score : 99.99% using Linear Regressor.\n",
      "Accuracy: 99.28 %.\n"
     ]
    }
   ],
   "source": [
    "model = LinearRegression()\n",
    "\n",
    "model.fit(X_train, y_train)\n",
    "predict = model.predict(X_test)\n",
    "\n",
    "print(\"Mean Absolute Error:\", round(metrics.mean_absolute_error(y_test, predict), 4))\n",
    "print(\"Mean Squared Error:\", round(metrics.mean_squared_error(y_test, predict), 4))\n",
    "print(\"Root Mean Squared Error:\", round(np.sqrt(metrics.mean_squared_error(y_test, predict)), 4))\n",
    "print(\"(R^2) Score:\", round(metrics.r2_score(y_test, predict), 4))\n",
    "print(f'Train Score : {model.score(X_train, y_train) * 100:.2f}% and Test Score : {model.score(X_test, y_test) * 100:.2f}% using Linear Regressor.')\n",
    "errors = abs(predict - y_test)\n",
    "mape = 100 * (errors / y_test)\n",
    "accuracy = 100 - np.mean(mape)\n",
    "print('Accuracy:', round(accuracy, 2), '%.')"
   ]
  },
  {
   "cell_type": "markdown",
   "id": "87bce7f3",
   "metadata": {},
   "source": [
    "# Trực quan hoá kết quả"
   ]
  },
  {
   "cell_type": "code",
   "execution_count": 22,
   "id": "869a3e72",
   "metadata": {},
   "outputs": [
    {
     "name": "stdout",
     "output_type": "stream",
     "text": [
      "                    Price      Open      High       Low       Vol.  Change %\n",
      "Date                                                                        \n",
      "2024-02-29  108580.526167  108200.0  109400.0  107700.0  2820000.0      0.46\n",
      "2024-02-28  107202.856539  108000.0  108500.0  106300.0  3460000.0      0.56\n",
      "2024-02-27  108335.527729  108500.0  109500.0  107400.0  2800000.0     -0.09\n",
      "2024-02-26  106916.855702  103900.0  108000.0  103500.0  4470000.0      3.95\n",
      "2024-02-23  104798.356533  105500.0  106700.0  103300.0  4100000.0     -0.67\n",
      "...                   ...       ...       ...       ...        ...       ...\n",
      "2012-01-09    6757.319723    6714.9    6742.5    6659.6   219830.0      0.41\n",
      "2012-01-06    6798.093500    6701.1    6714.9    6673.4   315300.0      0.83\n",
      "2012-01-05    6471.442156    6673.4    6756.3    6645.8   309570.0     -2.03\n",
      "2012-01-04    6799.304850    6811.6    6811.6    6784.0   141740.0      0.00\n",
      "2012-01-03    6635.120494    6562.9    6825.4    6562.9   356900.0     -1.01\n",
      "\n",
      "[3032 rows x 6 columns]\n"
     ]
    }
   ],
   "source": [
    "result_df = df.copy()\n",
    "result_df['Price'] = model.predict(X)\n",
    "\n",
    "print(result_df)"
   ]
  },
  {
   "cell_type": "code",
   "execution_count": 23,
   "id": "716fe809",
   "metadata": {},
   "outputs": [
    {
     "data": {
      "image/png": "[encoded data removed]",
      "text/plain": [
       "<Figure size 1500x700 with 1 Axes>"
      ]
     },
     "metadata": {},
     "output_type": "display_data"
    }
   ],
   "source": [
    "fig, ax = plt.subplots(figsize=(15, 7))\n",
    "df['Price'].plot(alpha=1, label = 'Giá đóng cửa thực tế')\n",
    "ax.plot(result_df['Price'], color='red', alpha=0.5, label = 'Giá đóng cửa dự kiến')\n",
    "ax.set_xlabel('Năm')\n",
    "ax.set_ylabel('Giá đóng cửa')\n",
    "plt.legend(loc='best')\n",
    "plt.tight_layout()\n",
    "plt.show()"
   ]
  },
  {
   "cell_type": "markdown",
   "id": "11c2ea06",
   "metadata": {},
   "source": [
    "# Tái sử dụng mô hình"
   ]
  },
  {
   "cell_type": "code",
   "execution_count": 24,
   "id": "7773f1c4",
   "metadata": {},
   "outputs": [
    {
     "name": "stdout",
     "output_type": "stream",
     "text": [
      "[108581.]\n"
     ]
    }
   ],
   "source": [
    "def get_df(date):\n",
    "    test_df = pd.read_csv('./data/FPT Historical Data_Demo.csv')\n",
    "\n",
    "    query_result = test_df[test_df['Date'] == date]\n",
    "    \n",
    "    if query_result.empty:\n",
    "        print(f\"No data found for date: {date}\")\n",
    "        return None \n",
    "\n",
    "    return query_result.drop('Date', axis = 1)\n",
    "\n",
    "predict_value = model.predict(get_df('2024-02-29'))\n",
    "\n",
    "print(predict_value.round(0))"
   ]
  }
 ],
 "metadata": {
  "kernelspec": {
   "display_name": "Python 3",
   "language": "python",
   "name": "python3"
  },
  "language_info": {
   "codemirror_mode": {
    "name": "ipython",
    "version": 3
   },
   "file_extension": ".py",
   "mimetype": "text/x-python",
   "name": "python",
   "nbconvert_exporter": "python",
   "pygments_lexer": "ipython3",
   "version": "3.12.0"
  }
 },
 "nbformat": 4,
 "nbformat_minor": 5
}
